{
 "cells": [
  {
   "cell_type": "code",
   "id": "initial_id",
   "metadata": {
    "collapsed": true,
    "ExecuteTime": {
     "end_time": "2025-02-05T23:43:29.497652Z",
     "start_time": "2025-02-05T23:43:28.176450Z"
    }
   },
   "source": [
    "import tensorflow as tf\n",
    "from tensorflow import keras"
   ],
   "outputs": [
    {
     "name": "stderr",
     "output_type": "stream",
     "text": [
      "2025-02-05 20:43:28.377571: I tensorflow/core/util/port.cc:113] oneDNN custom operations are on. You may see slightly different numerical results due to floating-point round-off errors from different computation orders. To turn them off, set the environment variable `TF_ENABLE_ONEDNN_OPTS=0`.\n",
      "2025-02-05 20:43:28.405110: E external/local_xla/xla/stream_executor/cuda/cuda_dnn.cc:9261] Unable to register cuDNN factory: Attempting to register factory for plugin cuDNN when one has already been registered\n",
      "2025-02-05 20:43:28.405130: E external/local_xla/xla/stream_executor/cuda/cuda_fft.cc:607] Unable to register cuFFT factory: Attempting to register factory for plugin cuFFT when one has already been registered\n",
      "2025-02-05 20:43:28.405887: E external/local_xla/xla/stream_executor/cuda/cuda_blas.cc:1515] Unable to register cuBLAS factory: Attempting to register factory for plugin cuBLAS when one has already been registered\n",
      "2025-02-05 20:43:28.410573: I tensorflow/core/platform/cpu_feature_guard.cc:182] This TensorFlow binary is optimized to use available CPU instructions in performance-critical operations.\n",
      "To enable the following instructions: AVX2 AVX512F AVX512_VNNI FMA, in other operations, rebuild TensorFlow with the appropriate compiler flags.\n",
      "2025-02-05 20:43:28.909947: W tensorflow/compiler/tf2tensorrt/utils/py_utils.cc:38] TF-TRT Warning: Could not find TensorRT\n"
     ]
    }
   ],
   "execution_count": 1
  },
  {
   "metadata": {
    "ExecuteTime": {
     "end_time": "2025-02-05T23:43:29.703674Z",
     "start_time": "2025-02-05T23:43:29.500807Z"
    }
   },
   "cell_type": "code",
   "source": [
    "# Loading the dataset\n",
    "fashion_mnist = keras.datasets.fashion_mnist\n",
    "(X_train_full, y_train_full), (X_test, y_test) = fashion_mnist.load_data()"
   ],
   "id": "ffc38d0f187cfb8e",
   "outputs": [],
   "execution_count": 2
  },
  {
   "metadata": {
    "ExecuteTime": {
     "end_time": "2025-02-05T23:43:29.785996Z",
     "start_time": "2025-02-05T23:43:29.782418Z"
    }
   },
   "cell_type": "code",
   "source": "X_train_full.shape, X_train_full.dtype",
   "id": "3e0a51660e255d4e",
   "outputs": [
    {
     "data": {
      "text/plain": [
       "((60000, 28, 28), dtype('uint8'))"
      ]
     },
     "execution_count": 3,
     "metadata": {},
     "output_type": "execute_result"
    }
   ],
   "execution_count": 3
  },
  {
   "metadata": {
    "ExecuteTime": {
     "end_time": "2025-02-05T23:43:29.883610Z",
     "start_time": "2025-02-05T23:43:29.880743Z"
    }
   },
   "cell_type": "code",
   "source": "y_train_full.shape",
   "id": "470f8a92d54d59c1",
   "outputs": [
    {
     "data": {
      "text/plain": [
       "(60000,)"
      ]
     },
     "execution_count": 4,
     "metadata": {},
     "output_type": "execute_result"
    }
   ],
   "execution_count": 4
  },
  {
   "metadata": {
    "ExecuteTime": {
     "end_time": "2025-02-05T23:43:30.058864Z",
     "start_time": "2025-02-05T23:43:29.982120Z"
    }
   },
   "cell_type": "code",
   "source": [
    "# Normalize the pixel values to the range (0, 1)\n",
    "X_valid, X_train, = X_train_full[:5000] / 255.0, X_train_full[5000:] / 255.0\n",
    "X_test = X_test / 255.0\n",
    "y_valid, y_train = y_train_full[:5000], y_train_full[5000:]"
   ],
   "id": "4728d2d1590b3be2",
   "outputs": [],
   "execution_count": 5
  },
  {
   "metadata": {
    "ExecuteTime": {
     "end_time": "2025-02-05T23:43:30.068959Z",
     "start_time": "2025-02-05T23:43:30.067186Z"
    }
   },
   "cell_type": "code",
   "source": "class_names = [\"T-shirt/top\", \"Trouser\", \"Pullover\", \"Dress\", \"Coat\", \"Sandal\", \"Shirt\", \"Sneaker\", \"Bag\", \"Ankle boot\"]",
   "id": "360f7f9d8aa53167",
   "outputs": [],
   "execution_count": 6
  },
  {
   "metadata": {
    "ExecuteTime": {
     "end_time": "2025-02-05T23:43:30.113354Z",
     "start_time": "2025-02-05T23:43:30.110361Z"
    }
   },
   "cell_type": "code",
   "source": "class_names[y_train[0]]",
   "id": "1d3e3dbe8bbd4132",
   "outputs": [
    {
     "data": {
      "text/plain": [
       "'Coat'"
      ]
     },
     "execution_count": 7,
     "metadata": {},
     "output_type": "execute_result"
    }
   ],
   "execution_count": 7
  },
  {
   "metadata": {
    "ExecuteTime": {
     "end_time": "2025-02-05T23:43:30.272914Z",
     "start_time": "2025-02-05T23:43:30.157926Z"
    }
   },
   "cell_type": "code",
   "source": [
    "# Building the neural network\n",
    "from keras.layers import Dense\n",
    "from keras.layers import Flatten\n",
    "from keras.models import Sequential\n",
    "\n",
    "model = Sequential([\n",
    "    Flatten(input_shape=[28, 28]),\n",
    "    Dense(300, activation=\"relu\"),\n",
    "    Dense(100, activation=\"relu\"),\n",
    "    Dense(10, activation=\"softmax\"),\n",
    "])\n"
   ],
   "id": "af5727a5a3ec562e",
   "outputs": [
    {
     "name": "stderr",
     "output_type": "stream",
     "text": [
      "2025-02-05 20:43:30.201667: I external/local_xla/xla/stream_executor/cuda/cuda_executor.cc:901] successful NUMA node read from SysFS had negative value (-1), but there must be at least one NUMA node, so returning NUMA node zero. See more at https://github.com/torvalds/linux/blob/v6.0/Documentation/ABI/testing/sysfs-bus-pci#L344-L355\n",
      "2025-02-05 20:43:30.221539: W tensorflow/core/common_runtime/gpu/gpu_device.cc:2256] Cannot dlopen some GPU libraries. Please make sure the missing libraries mentioned above are installed properly if you would like to use GPU. Follow the guide at https://www.tensorflow.org/install/gpu for how to download and setup the required libraries for your platform.\n",
      "Skipping registering GPU devices...\n"
     ]
    }
   ],
   "execution_count": 8
  },
  {
   "metadata": {
    "ExecuteTime": {
     "end_time": "2025-02-05T23:43:30.299307Z",
     "start_time": "2025-02-05T23:43:30.291343Z"
    }
   },
   "cell_type": "code",
   "source": "model.summary()",
   "id": "9287823255f2e9d7",
   "outputs": [
    {
     "name": "stdout",
     "output_type": "stream",
     "text": [
      "Model: \"sequential\"\n",
      "_________________________________________________________________\n",
      " Layer (type)                Output Shape              Param #   \n",
      "=================================================================\n",
      " flatten (Flatten)           (None, 784)               0         \n",
      "                                                                 \n",
      " dense (Dense)               (None, 300)               235500    \n",
      "                                                                 \n",
      " dense_1 (Dense)             (None, 100)               30100     \n",
      "                                                                 \n",
      " dense_2 (Dense)             (None, 10)                1010      \n",
      "                                                                 \n",
      "=================================================================\n",
      "Total params: 266610 (1.02 MB)\n",
      "Trainable params: 266610 (1.02 MB)\n",
      "Non-trainable params: 0 (0.00 Byte)\n",
      "_________________________________________________________________\n"
     ]
    }
   ],
   "execution_count": 9
  },
  {
   "metadata": {
    "ExecuteTime": {
     "end_time": "2025-02-05T23:43:30.342376Z",
     "start_time": "2025-02-05T23:43:30.339685Z"
    }
   },
   "cell_type": "code",
   "source": [
    "hidden1 = model.layers[1]\n",
    "hidden1.name"
   ],
   "id": "73b8d60759528c8b",
   "outputs": [
    {
     "data": {
      "text/plain": [
       "'dense'"
      ]
     },
     "execution_count": 10,
     "metadata": {},
     "output_type": "execute_result"
    }
   ],
   "execution_count": 10
  },
  {
   "metadata": {
    "ExecuteTime": {
     "end_time": "2025-02-05T23:43:30.396751Z",
     "start_time": "2025-02-05T23:43:30.388718Z"
    }
   },
   "cell_type": "code",
   "source": "weights, biases = hidden1.get_weights()",
   "id": "5e9bc1cf179adc62",
   "outputs": [],
   "execution_count": 11
  },
  {
   "metadata": {
    "ExecuteTime": {
     "end_time": "2025-02-05T23:43:30.439084Z",
     "start_time": "2025-02-05T23:43:30.435905Z"
    }
   },
   "cell_type": "code",
   "source": "weights",
   "id": "7dc7f85e75b618af",
   "outputs": [
    {
     "data": {
      "text/plain": [
       "array([[-1.8832050e-02, -1.3440080e-02, -5.3663127e-02, ...,\n",
       "         5.4298446e-02,  3.4466088e-02, -6.8537861e-02],\n",
       "       [-7.1226172e-02,  6.5299660e-02,  1.0046504e-02, ...,\n",
       "        -6.1642997e-02,  8.6906999e-03,  1.1981048e-02],\n",
       "       [-7.0780031e-02, -5.8641896e-02, -3.3106659e-02, ...,\n",
       "         1.9389391e-04,  6.0080960e-02,  5.8620274e-02],\n",
       "       ...,\n",
       "       [ 6.4560995e-02, -4.2956010e-02, -1.6791664e-02, ...,\n",
       "         5.0011024e-02, -1.4739271e-02,  3.7336320e-02],\n",
       "       [-4.2892560e-02, -2.3152139e-02,  3.8393266e-02, ...,\n",
       "         1.6533434e-03,  3.1214386e-02, -3.2000244e-05],\n",
       "       [-2.0956706e-02,  1.5634693e-02,  1.8555410e-02, ...,\n",
       "         1.5673041e-04,  4.6498097e-02, -6.4580649e-02]], dtype=float32)"
      ]
     },
     "execution_count": 12,
     "metadata": {},
     "output_type": "execute_result"
    }
   ],
   "execution_count": 12
  },
  {
   "metadata": {
    "ExecuteTime": {
     "end_time": "2025-02-05T23:43:30.514220Z",
     "start_time": "2025-02-05T23:43:30.511309Z"
    }
   },
   "cell_type": "code",
   "source": "biases",
   "id": "6c534dfd6990ee22",
   "outputs": [
    {
     "data": {
      "text/plain": [
       "array([0., 0., 0., 0., 0., 0., 0., 0., 0., 0., 0., 0., 0., 0., 0., 0., 0.,\n",
       "       0., 0., 0., 0., 0., 0., 0., 0., 0., 0., 0., 0., 0., 0., 0., 0., 0.,\n",
       "       0., 0., 0., 0., 0., 0., 0., 0., 0., 0., 0., 0., 0., 0., 0., 0., 0.,\n",
       "       0., 0., 0., 0., 0., 0., 0., 0., 0., 0., 0., 0., 0., 0., 0., 0., 0.,\n",
       "       0., 0., 0., 0., 0., 0., 0., 0., 0., 0., 0., 0., 0., 0., 0., 0., 0.,\n",
       "       0., 0., 0., 0., 0., 0., 0., 0., 0., 0., 0., 0., 0., 0., 0., 0., 0.,\n",
       "       0., 0., 0., 0., 0., 0., 0., 0., 0., 0., 0., 0., 0., 0., 0., 0., 0.,\n",
       "       0., 0., 0., 0., 0., 0., 0., 0., 0., 0., 0., 0., 0., 0., 0., 0., 0.,\n",
       "       0., 0., 0., 0., 0., 0., 0., 0., 0., 0., 0., 0., 0., 0., 0., 0., 0.,\n",
       "       0., 0., 0., 0., 0., 0., 0., 0., 0., 0., 0., 0., 0., 0., 0., 0., 0.,\n",
       "       0., 0., 0., 0., 0., 0., 0., 0., 0., 0., 0., 0., 0., 0., 0., 0., 0.,\n",
       "       0., 0., 0., 0., 0., 0., 0., 0., 0., 0., 0., 0., 0., 0., 0., 0., 0.,\n",
       "       0., 0., 0., 0., 0., 0., 0., 0., 0., 0., 0., 0., 0., 0., 0., 0., 0.,\n",
       "       0., 0., 0., 0., 0., 0., 0., 0., 0., 0., 0., 0., 0., 0., 0., 0., 0.,\n",
       "       0., 0., 0., 0., 0., 0., 0., 0., 0., 0., 0., 0., 0., 0., 0., 0., 0.,\n",
       "       0., 0., 0., 0., 0., 0., 0., 0., 0., 0., 0., 0., 0., 0., 0., 0., 0.,\n",
       "       0., 0., 0., 0., 0., 0., 0., 0., 0., 0., 0., 0., 0., 0., 0., 0., 0.,\n",
       "       0., 0., 0., 0., 0., 0., 0., 0., 0., 0., 0.], dtype=float32)"
      ]
     },
     "execution_count": 13,
     "metadata": {},
     "output_type": "execute_result"
    }
   ],
   "execution_count": 13
  },
  {
   "metadata": {
    "ExecuteTime": {
     "end_time": "2025-02-05T23:43:30.558051Z",
     "start_time": "2025-02-05T23:43:30.555198Z"
    }
   },
   "cell_type": "code",
   "source": "weights.shape, biases.shape",
   "id": "5309f96d4a416061",
   "outputs": [
    {
     "data": {
      "text/plain": [
       "((784, 300), (300,))"
      ]
     },
     "execution_count": 14,
     "metadata": {},
     "output_type": "execute_result"
    }
   ],
   "execution_count": 14
  },
  {
   "metadata": {
    "ExecuteTime": {
     "end_time": "2025-02-05T23:43:30.604793Z",
     "start_time": "2025-02-05T23:43:30.594536Z"
    }
   },
   "cell_type": "code",
   "source": [
    "# Compiling the model\n",
    "model.compile(loss=\"sparse_categorical_crossentropy\", optimizer=\"sgd\", metrics=[\"accuracy\"])"
   ],
   "id": "7cf2f842fa7d23ea",
   "outputs": [],
   "execution_count": 15
  },
  {
   "metadata": {
    "ExecuteTime": {
     "end_time": "2025-02-05T23:44:25.296346Z",
     "start_time": "2025-02-05T23:43:30.636124Z"
    }
   },
   "cell_type": "code",
   "source": [
    "# Training the model\n",
    "history = model.fit(X_train, y_train, epochs=30, validation_data=(X_valid, y_valid))"
   ],
   "id": "90c670e8b1e0281e",
   "outputs": [
    {
     "name": "stdout",
     "output_type": "stream",
     "text": [
      "Epoch 1/30\n",
      "1719/1719 [==============================] - 2s 1ms/step - loss: 0.7199 - accuracy: 0.7630 - val_loss: 0.5153 - val_accuracy: 0.8260\n",
      "Epoch 2/30\n",
      "1719/1719 [==============================] - 2s 1ms/step - loss: 0.4887 - accuracy: 0.8301 - val_loss: 0.4515 - val_accuracy: 0.8488\n",
      "Epoch 3/30\n",
      "1719/1719 [==============================] - 2s 1ms/step - loss: 0.4441 - accuracy: 0.8442 - val_loss: 0.4380 - val_accuracy: 0.8522\n",
      "Epoch 4/30\n",
      "1719/1719 [==============================] - 2s 1ms/step - loss: 0.4172 - accuracy: 0.8539 - val_loss: 0.4027 - val_accuracy: 0.8614\n",
      "Epoch 5/30\n",
      "1719/1719 [==============================] - 2s 1ms/step - loss: 0.3980 - accuracy: 0.8602 - val_loss: 0.4014 - val_accuracy: 0.8622\n",
      "Epoch 6/30\n",
      "1719/1719 [==============================] - 2s 1ms/step - loss: 0.3813 - accuracy: 0.8659 - val_loss: 0.3716 - val_accuracy: 0.8710\n",
      "Epoch 7/30\n",
      "1719/1719 [==============================] - 2s 1ms/step - loss: 0.3684 - accuracy: 0.8706 - val_loss: 0.3704 - val_accuracy: 0.8702\n",
      "Epoch 8/30\n",
      "1719/1719 [==============================] - 2s 1ms/step - loss: 0.3571 - accuracy: 0.8730 - val_loss: 0.3664 - val_accuracy: 0.8694\n",
      "Epoch 9/30\n",
      "1719/1719 [==============================] - 2s 1ms/step - loss: 0.3466 - accuracy: 0.8775 - val_loss: 0.3558 - val_accuracy: 0.8744\n",
      "Epoch 10/30\n",
      "1719/1719 [==============================] - 2s 1ms/step - loss: 0.3381 - accuracy: 0.8790 - val_loss: 0.3478 - val_accuracy: 0.8766\n",
      "Epoch 11/30\n",
      "1719/1719 [==============================] - 2s 1ms/step - loss: 0.3297 - accuracy: 0.8827 - val_loss: 0.3524 - val_accuracy: 0.8752\n",
      "Epoch 12/30\n",
      "1719/1719 [==============================] - 2s 1ms/step - loss: 0.3211 - accuracy: 0.8853 - val_loss: 0.3517 - val_accuracy: 0.8768\n",
      "Epoch 13/30\n",
      "1719/1719 [==============================] - 2s 1ms/step - loss: 0.3133 - accuracy: 0.8883 - val_loss: 0.3425 - val_accuracy: 0.8790\n",
      "Epoch 14/30\n",
      "1719/1719 [==============================] - 2s 1ms/step - loss: 0.3065 - accuracy: 0.8905 - val_loss: 0.3348 - val_accuracy: 0.8824\n",
      "Epoch 15/30\n",
      "1719/1719 [==============================] - 2s 1ms/step - loss: 0.3005 - accuracy: 0.8929 - val_loss: 0.3247 - val_accuracy: 0.8834\n",
      "Epoch 16/30\n",
      "1719/1719 [==============================] - 2s 1ms/step - loss: 0.2943 - accuracy: 0.8933 - val_loss: 0.3261 - val_accuracy: 0.8838\n",
      "Epoch 17/30\n",
      "1719/1719 [==============================] - 2s 1ms/step - loss: 0.2882 - accuracy: 0.8964 - val_loss: 0.3378 - val_accuracy: 0.8774\n",
      "Epoch 18/30\n",
      "1719/1719 [==============================] - 2s 1ms/step - loss: 0.2823 - accuracy: 0.8980 - val_loss: 0.3190 - val_accuracy: 0.8894\n",
      "Epoch 19/30\n",
      "1719/1719 [==============================] - 2s 1ms/step - loss: 0.2770 - accuracy: 0.9007 - val_loss: 0.3128 - val_accuracy: 0.8898\n",
      "Epoch 20/30\n",
      "1719/1719 [==============================] - 2s 1ms/step - loss: 0.2721 - accuracy: 0.9020 - val_loss: 0.3060 - val_accuracy: 0.8940\n",
      "Epoch 21/30\n",
      "1719/1719 [==============================] - 2s 1ms/step - loss: 0.2668 - accuracy: 0.9045 - val_loss: 0.3042 - val_accuracy: 0.8950\n",
      "Epoch 22/30\n",
      "1719/1719 [==============================] - 2s 1ms/step - loss: 0.2626 - accuracy: 0.9054 - val_loss: 0.3208 - val_accuracy: 0.8830\n",
      "Epoch 23/30\n",
      "1719/1719 [==============================] - 2s 1ms/step - loss: 0.2582 - accuracy: 0.9070 - val_loss: 0.3092 - val_accuracy: 0.8906\n",
      "Epoch 24/30\n",
      "1719/1719 [==============================] - 2s 1ms/step - loss: 0.2542 - accuracy: 0.9083 - val_loss: 0.3119 - val_accuracy: 0.8900\n",
      "Epoch 25/30\n",
      "1719/1719 [==============================] - 2s 1ms/step - loss: 0.2492 - accuracy: 0.9095 - val_loss: 0.3021 - val_accuracy: 0.8926\n",
      "Epoch 26/30\n",
      "1719/1719 [==============================] - 2s 1ms/step - loss: 0.2438 - accuracy: 0.9125 - val_loss: 0.3054 - val_accuracy: 0.8886\n",
      "Epoch 27/30\n",
      "1719/1719 [==============================] - 2s 1ms/step - loss: 0.2412 - accuracy: 0.9132 - val_loss: 0.2973 - val_accuracy: 0.8936\n",
      "Epoch 28/30\n",
      "1719/1719 [==============================] - 2s 1ms/step - loss: 0.2361 - accuracy: 0.9151 - val_loss: 0.3033 - val_accuracy: 0.8918\n",
      "Epoch 29/30\n",
      "1719/1719 [==============================] - 2s 1ms/step - loss: 0.2329 - accuracy: 0.9167 - val_loss: 0.2964 - val_accuracy: 0.8982\n",
      "Epoch 30/30\n",
      "1719/1719 [==============================] - 2s 1ms/step - loss: 0.2286 - accuracy: 0.9174 - val_loss: 0.3090 - val_accuracy: 0.8892\n"
     ]
    }
   ],
   "execution_count": 16
  },
  {
   "metadata": {
    "ExecuteTime": {
     "end_time": "2025-02-05T23:44:26.177697Z",
     "start_time": "2025-02-05T23:44:25.834661Z"
    }
   },
   "cell_type": "code",
   "source": [
    "import pandas as pd\n",
    "import matplotlib.pyplot as plt\n",
    "\n",
    "pd.DataFrame(history.history).plot(figsize=(8, 5))\n",
    "plt.grid(True)\n",
    "plt.gca().set_ylim(0, 1)\n",
    "plt.show()"
   ],
   "id": "f01d53cba6b9e19b",
   "outputs": [
    {
     "data": {
      "text/plain": [
       "<Figure size 800x500 with 1 Axes>"
      ],
      "image/png": "[encoded data removed]"
     },
     "metadata": {},
     "output_type": "display_data"
    }
   ],
   "execution_count": 17
  },
  {
   "metadata": {
    "ExecuteTime": {
     "end_time": "2025-02-05T23:45:38.665573Z",
     "start_time": "2025-02-05T23:45:38.395086Z"
    }
   },
   "cell_type": "code",
   "source": [
    "# Evaluating the model\n",
    "model.evaluate(X_test, y_test)"
   ],
   "id": "dc9a92f759c2332",
   "outputs": [
    {
     "name": "stdout",
     "output_type": "stream",
     "text": [
      "313/313 [==============================] - 0s 662us/step - loss: 0.3333 - accuracy: 0.8809\n"
     ]
    },
    {
     "data": {
      "text/plain": [
       "[0.33333176374435425, 0.8809000253677368]"
      ]
     },
     "execution_count": 21,
     "metadata": {},
     "output_type": "execute_result"
    }
   ],
   "execution_count": 21
  },
  {
   "metadata": {
    "ExecuteTime": {
     "end_time": "2025-02-05T23:47:14.437191Z",
     "start_time": "2025-02-05T23:47:14.369217Z"
    }
   },
   "cell_type": "code",
   "source": [
    "# Using the model to make predictions\n",
    "X_new = X_test[:3]\n",
    "y_proba = model.predict(X_new)\n",
    "y_proba.round(2)\n"
   ],
   "id": "161ddc15dbfac5e3",
   "outputs": [
    {
     "name": "stdout",
     "output_type": "stream",
     "text": [
      "1/1 [==============================] - 0s 42ms/step\n"
     ]
    },
    {
     "data": {
      "text/plain": [
       "array([[0.  , 0.  , 0.  , 0.  , 0.  , 0.01, 0.  , 0.01, 0.  , 0.99],\n",
       "       [0.  , 0.  , 1.  , 0.  , 0.  , 0.  , 0.  , 0.  , 0.  , 0.  ],\n",
       "       [0.  , 1.  , 0.  , 0.  , 0.  , 0.  , 0.  , 0.  , 0.  , 0.  ]],\n",
       "      dtype=float32)"
      ]
     },
     "execution_count": 22,
     "metadata": {},
     "output_type": "execute_result"
    }
   ],
   "execution_count": 22
  },
  {
   "metadata": {
    "ExecuteTime": {
     "end_time": "2025-02-05T23:50:59.726163Z",
     "start_time": "2025-02-05T23:50:59.683572Z"
    }
   },
   "cell_type": "code",
   "source": [
    "import numpy as np\n",
    "\n",
    "y_pred = np.argmax(model.predict(X_new), axis=1)\n",
    "y_pred\n",
    "\n",
    "np.array(class_names)[y_pred]\n"
   ],
   "id": "9a9a2f2879c5254a",
   "outputs": [
    {
     "name": "stdout",
     "output_type": "stream",
     "text": [
      "1/1 [==============================] - 0s 11ms/step\n"
     ]
    },
    {
     "data": {
      "text/plain": [
       "array(['Ankle boot', 'Pullover', 'Trouser'], dtype='<U11')"
      ]
     },
     "execution_count": 26,
     "metadata": {},
     "output_type": "execute_result"
    }
   ],
   "execution_count": 26
  },
  {
   "metadata": {
    "ExecuteTime": {
     "end_time": "2025-02-05T23:51:20.778452Z",
     "start_time": "2025-02-05T23:51:20.774710Z"
    }
   },
   "cell_type": "code",
   "source": [
    "y_new = y_test[:3]\n",
    "y_new"
   ],
   "id": "b25debe504a8e2ac",
   "outputs": [
    {
     "data": {
      "text/plain": [
       "array([9, 2, 1], dtype=uint8)"
      ]
     },
     "execution_count": 27,
     "metadata": {},
     "output_type": "execute_result"
    }
   ],
   "execution_count": 27
  }
 ],
 "metadata": {
  "kernelspec": {
   "display_name": "Python 3",
   "language": "python",
   "name": "python3"
  },
  "language_info": {
   "codemirror_mode": {
    "name": "ipython",
    "version": 2
   },
   "file_extension": ".py",
   "mimetype": "text/x-python",
   "name": "python",
   "nbconvert_exporter": "python",
   "pygments_lexer": "ipython2",
   "version": "2.7.6"
  }
 },
 "nbformat": 4,
 "nbformat_minor": 5
}
