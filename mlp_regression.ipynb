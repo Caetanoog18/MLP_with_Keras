{
 "cells": [
  {
   "cell_type": "code",
   "id": "initial_id",
   "metadata": {
    "collapsed": true,
    "ExecuteTime": {
     "end_time": "2025-02-21T02:27:29.092776Z",
     "start_time": "2025-02-21T02:27:29.089671Z"
    }
   },
   "source": [
    "import tensorflow as tf\n",
    "from tensorflow import keras\n",
    "from sklearn.datasets import fetch_california_housing\n",
    "from sklearn.model_selection import train_test_split\n",
    "from sklearn.preprocessing import StandardScaler"
   ],
   "outputs": [],
   "execution_count": 7
  },
  {
   "metadata": {
    "ExecuteTime": {
     "end_time": "2025-02-21T02:27:29.821621Z",
     "start_time": "2025-02-21T02:27:29.810222Z"
    }
   },
   "cell_type": "code",
   "source": [
    "housing = fetch_california_housing()\n",
    "\n",
    "X_train_full, X_test, y_train_full, y_test = train_test_split(housing.data, housing.target)\n",
    "\n",
    "X_train, X_valid, y_train, y_valid = train_test_split(X_train_full, y_train_full)"
   ],
   "id": "93b9e173803f1ecc",
   "outputs": [],
   "execution_count": 8
  },
  {
   "metadata": {
    "ExecuteTime": {
     "end_time": "2025-02-21T02:27:31.477107Z",
     "start_time": "2025-02-21T02:27:31.472355Z"
    }
   },
   "cell_type": "code",
   "source": [
    "scaler=StandardScaler()\n",
    "X_train = scaler.fit_transform(X_train)\n",
    "X_valid = scaler.transform(X_valid)\n",
    "X_test = scaler.transform(X_test)"
   ],
   "id": "1a367632e0e77350",
   "outputs": [],
   "execution_count": 9
  },
  {
   "metadata": {
    "ExecuteTime": {
     "end_time": "2025-02-21T02:27:37.389268Z",
     "start_time": "2025-02-21T02:27:32.740743Z"
    }
   },
   "cell_type": "code",
   "source": [
    "from keras.layers import Dense\n",
    "from keras.layers import Flatten\n",
    "from keras.models import Sequential\n",
    "\n",
    "model = Sequential([\n",
    "    Dense(30, activation='relu', input_shape=X_train.shape[1:]),\n",
    "    Dense(1, activation='relu'),\n",
    "])\n",
    "\n",
    "model.compile(loss='mean_squared_error', optimizer='sgd')\n",
    "history = model.fit(X_train, y_train, epochs=20, validation_data=(X_valid, y_valid))"
   ],
   "id": "d04929a678ce3731",
   "outputs": [
    {
     "name": "stdout",
     "output_type": "stream",
     "text": [
      "Epoch 1/20\n",
      "363/363 [==============================] - 0s 817us/step - loss: 0.9216 - val_loss: 0.5410\n",
      "Epoch 2/20\n",
      "363/363 [==============================] - 0s 587us/step - loss: 0.5144 - val_loss: 0.4819\n",
      "Epoch 3/20\n",
      "363/363 [==============================] - 0s 575us/step - loss: 0.4783 - val_loss: 0.4599\n",
      "Epoch 4/20\n",
      "363/363 [==============================] - 0s 569us/step - loss: 0.4576 - val_loss: 0.4432\n",
      "Epoch 5/20\n",
      "363/363 [==============================] - 0s 578us/step - loss: 0.4448 - val_loss: 0.4283\n",
      "Epoch 6/20\n",
      "363/363 [==============================] - 0s 582us/step - loss: 0.4335 - val_loss: 0.4246\n",
      "Epoch 7/20\n",
      "363/363 [==============================] - 0s 570us/step - loss: 0.4267 - val_loss: 0.4171\n",
      "Epoch 8/20\n",
      "363/363 [==============================] - 0s 550us/step - loss: 0.4225 - val_loss: 0.4193\n",
      "Epoch 9/20\n",
      "363/363 [==============================] - 0s 601us/step - loss: 0.4152 - val_loss: 0.4038\n",
      "Epoch 10/20\n",
      "363/363 [==============================] - 0s 575us/step - loss: 0.4112 - val_loss: 0.3974\n",
      "Epoch 11/20\n",
      "363/363 [==============================] - 0s 575us/step - loss: 0.4075 - val_loss: 0.3990\n",
      "Epoch 12/20\n",
      "363/363 [==============================] - 0s 564us/step - loss: 0.4071 - val_loss: 0.3938\n",
      "Epoch 13/20\n",
      "363/363 [==============================] - 0s 563us/step - loss: 0.4013 - val_loss: 0.4001\n",
      "Epoch 14/20\n",
      "363/363 [==============================] - 0s 574us/step - loss: 0.4002 - val_loss: 0.4007\n",
      "Epoch 15/20\n",
      "363/363 [==============================] - 0s 570us/step - loss: 0.4053 - val_loss: 0.4027\n",
      "Epoch 16/20\n",
      "363/363 [==============================] - 0s 574us/step - loss: 0.3962 - val_loss: 0.3930\n",
      "Epoch 17/20\n",
      "363/363 [==============================] - 0s 658us/step - loss: 0.3936 - val_loss: 0.3920\n",
      "Epoch 18/20\n",
      "363/363 [==============================] - 0s 656us/step - loss: 0.3918 - val_loss: 0.3954\n",
      "Epoch 19/20\n",
      "363/363 [==============================] - 0s 607us/step - loss: 0.3896 - val_loss: 0.3810\n",
      "Epoch 20/20\n",
      "363/363 [==============================] - 0s 626us/step - loss: 0.3878 - val_loss: 0.3850\n"
     ]
    }
   ],
   "execution_count": 10
  },
  {
   "metadata": {
    "ExecuteTime": {
     "end_time": "2025-02-21T02:27:40.107146Z",
     "start_time": "2025-02-21T02:27:39.848417Z"
    }
   },
   "cell_type": "code",
   "source": [
    "mse_test = model.evaluate(X_test, y_test)\n",
    "X_new = X_test[3:]\n",
    "y_pred = model.predict(X_new)"
   ],
   "id": "c664f7e7eb6372b3",
   "outputs": [
    {
     "name": "stdout",
     "output_type": "stream",
     "text": [
      "162/162 [==============================] - 0s 406us/step - loss: 0.3848\n",
      "162/162 [==============================] - 0s 385us/step\n"
     ]
    }
   ],
   "execution_count": 11
  }
 ],
 "metadata": {
  "kernelspec": {
   "display_name": "Python 3",
   "language": "python",
   "name": "python3"
  },
  "language_info": {
   "codemirror_mode": {
    "name": "ipython",
    "version": 2
   },
   "file_extension": ".py",
   "mimetype": "text/x-python",
   "name": "python",
   "nbconvert_exporter": "python",
   "pygments_lexer": "ipython2",
   "version": "2.7.6"
  }
 },
 "nbformat": 4,
 "nbformat_minor": 5
}
